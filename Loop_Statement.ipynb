{
  "nbformat": 4,
  "nbformat_minor": 0,
  "metadata": {
    "colab": {
      "provenance": [],
      "authorship_tag": "ABX9TyOGQ0KtPBFg8+c7w/bpVEk1",
      "include_colab_link": true
    },
    "kernelspec": {
      "name": "python3",
      "display_name": "Python 3"
    },
    "language_info": {
      "name": "python"
    }
  },
  "cells": [
    {
      "cell_type": "markdown",
      "metadata": {
        "id": "view-in-github",
        "colab_type": "text"
      },
      "source": [
        "<a href=\"https://colab.research.google.com/github/AtenciaDanEric/CpE0332.1-1-Elective-3/blob/main/Loop_Statement.ipynb\" target=\"_parent\"><img src=\"https://colab.research.google.com/assets/colab-badge.svg\" alt=\"Open In Colab\"/></a>"
      ]
    },
    {
      "cell_type": "markdown",
      "source": [
        "Example 1 - Loop Statement"
      ],
      "metadata": {
        "id": "lE5-1pO5evsb"
      }
    },
    {
      "cell_type": "code",
      "source": [
        "#Example 1 - Loop Statement\n",
        "\n",
        "week = [\"Sunday\", \"Monday\", \"Tuesday\", \"Wednesday\", \"Thursday\", \"Friday\", \"Saturday\"]\n",
        "\n",
        "for x in week:\n",
        "  print (x)"
      ],
      "metadata": {
        "colab": {
          "base_uri": "https://localhost:8080/"
        },
        "id": "EpS-sxJNgIWB",
        "outputId": "74d763ef-4ee5-4471-a168-0d5294e263ff"
      },
      "execution_count": null,
      "outputs": [
        {
          "output_type": "stream",
          "name": "stdout",
          "text": [
            "Sunday\n",
            "Monday\n",
            "Tuesday\n",
            "Wednesday\n",
            "Thursday\n",
            "Friday\n",
            "Saturday\n"
          ]
        }
      ]
    },
    {
      "cell_type": "markdown",
      "source": [
        "Example 2 - The Break Statement"
      ],
      "metadata": {
        "id": "Vq9AkK10hjha"
      }
    },
    {
      "cell_type": "code",
      "source": [
        "#Example 2 - The Break Statement\n",
        "\n",
        "week = [\"Sunday\", \"Monday\", \"Tuesday\", \"Wednesday\", \"Thursday\", \"Friday\", \"Saturday\"]\n",
        "\n",
        "for x in week:\n",
        "  print (x)\n",
        "  if x == \"Thursday\":\n",
        "    break"
      ],
      "metadata": {
        "colab": {
          "base_uri": "https://localhost:8080/"
        },
        "id": "7nAHAyHchq3x",
        "outputId": "7a16933e-205a-429d-a8a9-4375b54dd0cb"
      },
      "execution_count": null,
      "outputs": [
        {
          "output_type": "stream",
          "name": "stdout",
          "text": [
            "Sunday\n",
            "Monday\n",
            "Tuesday\n",
            "Wednesday\n",
            "Thursday\n"
          ]
        }
      ]
    },
    {
      "cell_type": "markdown",
      "source": [
        "Example 3 - The Break Statement"
      ],
      "metadata": {
        "id": "UDmozdZficO5"
      }
    },
    {
      "cell_type": "code",
      "source": [
        "#Example 3 - The Break Statement\n",
        "\n",
        "week = [\"Sunday\", \"Monday\", \"Tuesday\", \"Wednesday\", \"Thursday\", \"Friday\", \"Saturday\"]\n",
        "\n",
        "for x in week:\n",
        "  if x == \"Thursday\":\n",
        "    break\n",
        "  print (x)"
      ],
      "metadata": {
        "colab": {
          "base_uri": "https://localhost:8080/"
        },
        "id": "-UkxGtlGjVp6",
        "outputId": "f2d8507a-83c0-4f08-f90c-412b24b9af8a"
      },
      "execution_count": null,
      "outputs": [
        {
          "output_type": "stream",
          "name": "stdout",
          "text": [
            "Sunday\n",
            "Monday\n",
            "Tuesday\n",
            "Wednesday\n"
          ]
        }
      ]
    },
    {
      "cell_type": "markdown",
      "source": [
        "Example 4 - Looping through a String"
      ],
      "metadata": {
        "id": "N6eAqnF1jVWJ"
      }
    },
    {
      "cell_type": "code",
      "source": [
        "#Example 4 - Looping through a String\n",
        "\n",
        "for x in \"week\":\n",
        "  print (x)"
      ],
      "metadata": {
        "colab": {
          "base_uri": "https://localhost:8080/"
        },
        "id": "oAr53Nq7jetS",
        "outputId": "ecafa398-5aa2-440a-ba91-d1895247bb2c"
      },
      "execution_count": null,
      "outputs": [
        {
          "output_type": "stream",
          "name": "stdout",
          "text": [
            "w\n",
            "e\n",
            "e\n",
            "k\n"
          ]
        }
      ]
    },
    {
      "cell_type": "markdown",
      "source": [
        "Application 3 or Example 5 - The Break Statement\n"
      ],
      "metadata": {
        "id": "HncE3gq4jmaZ"
      }
    },
    {
      "cell_type": "code",
      "source": [
        "#Application 3 or Example 5 - The Break Statement\n",
        "\n",
        "week = [\"Sunday\", \"Monday\", \"Tuesday\", \"Wednesday\", \"Thursday\", \"Friday\", \"Saturday\"]\n",
        "\n",
        "for x in week:\n",
        "  if x == \"Thursday\":\n",
        "    print (x)\n",
        "    break"
      ],
      "metadata": {
        "colab": {
          "base_uri": "https://localhost:8080/"
        },
        "id": "dV6M5l5WjzQi",
        "outputId": "6d10b535-840c-4ebb-b781-1dfd694ec3a1"
      },
      "execution_count": null,
      "outputs": [
        {
          "output_type": "stream",
          "name": "stdout",
          "text": [
            "Thursday\n"
          ]
        }
      ]
    },
    {
      "cell_type": "markdown",
      "source": [
        "Example 6 -The range() Function"
      ],
      "metadata": {
        "id": "uMAkKHeyloE6"
      }
    },
    {
      "cell_type": "code",
      "source": [
        "#Example 6 -The range() Function\n",
        "\n",
        "for x in range(6):\n",
        "  print (x)\n",
        "print (\"--\")\n",
        "for x in range(2,6):\n",
        "  print (x)"
      ],
      "metadata": {
        "colab": {
          "base_uri": "https://localhost:8080/"
        },
        "id": "m9VHLycfmF3i",
        "outputId": "348e15f0-5e15-41e6-af0c-dc71ea801ed6"
      },
      "execution_count": null,
      "outputs": [
        {
          "output_type": "stream",
          "name": "stdout",
          "text": [
            "0\n",
            "1\n",
            "2\n",
            "3\n",
            "4\n",
            "5\n",
            "--\n",
            "2\n",
            "3\n",
            "4\n",
            "5\n"
          ]
        }
      ]
    },
    {
      "cell_type": "markdown",
      "source": [
        "Example 7 - Nested Loops"
      ],
      "metadata": {
        "id": "cVeqB9Oymv9Z"
      }
    },
    {
      "cell_type": "code",
      "source": [
        "#Example 7 - Nested Loops\n",
        "\n",
        "adjective = [\"red\", \"big\", \"tasty\"]\n",
        "fruits = [\"apple\", \"banana\", \"cherry\"]\n",
        "\n",
        "for x in adjective:\n",
        "  for y in fruits:\n",
        "    print (x, y)"
      ],
      "metadata": {
        "colab": {
          "base_uri": "https://localhost:8080/"
        },
        "id": "E8DxLnYcmzMZ",
        "outputId": "5eb2b172-b56b-4ff7-9cec-ebeb6e363654"
      },
      "execution_count": null,
      "outputs": [
        {
          "output_type": "stream",
          "name": "stdout",
          "text": [
            "red apple\n",
            "red banana\n",
            "red cherry\n",
            "big apple\n",
            "big banana\n",
            "big cherry\n",
            "tasty apple\n",
            "tasty banana\n",
            "tasty cherry\n"
          ]
        }
      ]
    },
    {
      "cell_type": "markdown",
      "source": [
        "Example 8 - While Loops"
      ],
      "metadata": {
        "id": "Z6AUCFFznyAR"
      }
    },
    {
      "cell_type": "code",
      "source": [
        "#Example 8 - While Loops\n",
        "\n",
        "i = 1\n",
        "while i < 6:\n",
        "  print (i)\n",
        "  i += 1 #i += 1 - Assignment operator"
      ],
      "metadata": {
        "colab": {
          "base_uri": "https://localhost:8080/"
        },
        "id": "OjEEz7JKn6JQ",
        "outputId": "98077aa8-7706-4983-81b8-aa302c6aab15"
      },
      "execution_count": null,
      "outputs": [
        {
          "output_type": "stream",
          "name": "stdout",
          "text": [
            "1\n",
            "2\n",
            "3\n",
            "4\n",
            "5\n"
          ]
        }
      ]
    },
    {
      "cell_type": "markdown",
      "source": [
        "Example 9 - While loop the break statement"
      ],
      "metadata": {
        "id": "h-JT7q63oeJ5"
      }
    },
    {
      "cell_type": "code",
      "source": [
        "#Example 9 - While loop the break statement\n",
        "\n",
        "i = 1\n",
        "while i < 6:\n",
        "  print (i)\n",
        "  if i == 3:\n",
        "    break\n",
        "  i += 1 #i = i + 1"
      ],
      "metadata": {
        "colab": {
          "base_uri": "https://localhost:8080/"
        },
        "id": "MQDGVB6So5N5",
        "outputId": "3dba5f88-3bae-4eb8-a803-010a2d7fe970"
      },
      "execution_count": null,
      "outputs": [
        {
          "output_type": "stream",
          "name": "stdout",
          "text": [
            "1\n",
            "2\n",
            "3\n"
          ]
        }
      ]
    },
    {
      "cell_type": "markdown",
      "source": [
        "Example 10 - While Continuous Statement"
      ],
      "metadata": {
        "id": "gKKZikw7phaq"
      }
    },
    {
      "cell_type": "code",
      "source": [
        "#Example 10 - While Continuous Statement\n",
        "\n",
        "i = 0\n",
        "while i < 6:\n",
        "  i += 1\n",
        "  if i == 3:\n",
        "    continue\n",
        "  print (i)"
      ],
      "metadata": {
        "colab": {
          "base_uri": "https://localhost:8080/"
        },
        "id": "pgqBSdyZpnIp",
        "outputId": "108af90f-86a8-4b7a-b2ca-a6a09ff2e1dd"
      },
      "execution_count": null,
      "outputs": [
        {
          "output_type": "stream",
          "name": "stdout",
          "text": [
            "1\n",
            "2\n",
            "4\n",
            "5\n",
            "6\n"
          ]
        }
      ]
    },
    {
      "cell_type": "markdown",
      "source": [
        "Example 11 - The else Statement"
      ],
      "metadata": {
        "id": "KSYeqENOqf_p"
      }
    },
    {
      "cell_type": "code",
      "source": [
        "#Example 11 - While Continuous Statement\n",
        "i = 1\n",
        "while i < 6:\n",
        "  print (i)\n",
        "  i += 1\n",
        "else:\n",
        "  print (\"i is no longer less than 6\")"
      ],
      "metadata": {
        "colab": {
          "base_uri": "https://localhost:8080/"
        },
        "id": "rV8G-YTwqjxB",
        "outputId": "48e42d50-d927-4d96-a85f-5ee2326fdff3"
      },
      "execution_count": null,
      "outputs": [
        {
          "output_type": "stream",
          "name": "stdout",
          "text": [
            "1\n",
            "2\n",
            "3\n",
            "4\n",
            "5\n",
            "i is no longer less than 6\n"
          ]
        }
      ]
    },
    {
      "cell_type": "markdown",
      "source": [
        "Application 4: Let's Try - Create a Python that displays:  \n",
        "\t  \n",
        "\t\tHello 0\n",
        "\t\tHello 1\n",
        "\t\tHello 2\n",
        "\t\tHello 3\n",
        "\t\tHello 4\n",
        "\t\tHello 5\n",
        "\t\tHello 6\n",
        "\t\tHello 7\n",
        "\t\tHello 8\n",
        "\t\tHello 9\n",
        "\t\tHello 10"
      ],
      "metadata": {
        "id": "oly0ZGUrLZTy"
      }
    },
    {
      "cell_type": "code",
      "source": [
        "#Application 4 - For loop version\n",
        "for x in range(11):\n",
        "  print (\"Hello\", x)\n",
        "\n",
        "print (\"--------\")\n",
        "\n",
        "#Application 4 - While loop version\n",
        "i=0\n",
        "while i < 11:\n",
        "  print (\"Hello\", i)\n",
        "  i += 1"
      ],
      "metadata": {
        "colab": {
          "base_uri": "https://localhost:8080/"
        },
        "id": "EIGrBFQfq-gp",
        "outputId": "a42253d5-a21b-4378-d375-cc04f4b7146d"
      },
      "execution_count": null,
      "outputs": [
        {
          "output_type": "stream",
          "name": "stdout",
          "text": [
            "Hello 0\n",
            "Hello 1\n",
            "Hello 2\n",
            "Hello 3\n",
            "Hello 4\n",
            "Hello 5\n",
            "Hello 6\n",
            "Hello 7\n",
            "Hello 8\n",
            "Hello 9\n",
            "Hello 10\n",
            "--------\n",
            "Hello 0\n",
            "Hello 1\n",
            "Hello 2\n",
            "Hello 3\n",
            "Hello 4\n",
            "Hello 5\n",
            "Hello 6\n",
            "Hello 7\n",
            "Hello 8\n",
            "Hello 9\n",
            "Hello 10\n"
          ]
        }
      ]
    },
    {
      "cell_type": "markdown",
      "source": [
        "Application 5: Create a Python program that displays integers less than 10 but not less than 3"
      ],
      "metadata": {
        "id": "yzmVB1qUuibd"
      }
    },
    {
      "cell_type": "code",
      "source": [
        "#Application 5 - For loop version\n",
        "for x in range(3,10):\n",
        "  print (x)\n",
        "\n",
        "print (\"--\")\n",
        "\n",
        "#Application 5 - While loop version\n",
        "i=3\n",
        "while i < 10:\n",
        "  print (i)\n",
        "  i += 1"
      ],
      "metadata": {
        "colab": {
          "base_uri": "https://localhost:8080/"
        },
        "id": "1bryidDDvpsx",
        "outputId": "c5bc3a89-138c-43d3-d5b7-c22896c5ea2f"
      },
      "execution_count": null,
      "outputs": [
        {
          "output_type": "stream",
          "name": "stdout",
          "text": [
            "3\n",
            "4\n",
            "5\n",
            "6\n",
            "7\n",
            "8\n",
            "9\n",
            "--\n",
            "3\n",
            "4\n",
            "5\n",
            "6\n",
            "7\n",
            "8\n",
            "9\n"
          ]
        }
      ]
    }
  ]
}