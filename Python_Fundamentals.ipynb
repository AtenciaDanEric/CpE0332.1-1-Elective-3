{
  "nbformat": 4,
  "nbformat_minor": 0,
  "metadata": {
    "colab": {
      "provenance": [],
      "include_colab_link": true
    },
    "kernelspec": {
      "name": "python3",
      "display_name": "Python 3"
    },
    "language_info": {
      "name": "python"
    }
  },
  "cells": [
    {
      "cell_type": "markdown",
      "metadata": {
        "id": "view-in-github",
        "colab_type": "text"
      },
      "source": [
        "<a href=\"https://colab.research.google.com/github/dancoder026/CpE0332.1-1-Elective-3/blob/main/Python_Fundamentals.ipynb\" target=\"_parent\"><img src=\"https://colab.research.google.com/assets/colab-badge.svg\" alt=\"Open In Colab\"/></a>"
      ]
    },
    {
      "cell_type": "markdown",
      "source": [
        "Python Indentation"
      ],
      "metadata": {
        "id": "w0JVEVRii-eH"
      }
    },
    {
      "cell_type": "code",
      "source": [
        "x = 3\n",
        "y = 2\n",
        "if 5 > 2:\n",
        "    print(\"Five is greater than two!\")"
      ],
      "metadata": {
        "colab": {
          "base_uri": "https://localhost:8080/"
        },
        "id": "wO3Z_ogTjIzv",
        "outputId": "a21f7da2-4246-4684-e478-f83caf377d18"
      },
      "execution_count": 2,
      "outputs": [
        {
          "output_type": "stream",
          "name": "stdout",
          "text": [
            "Five is greater than two!\n"
          ]
        }
      ]
    },
    {
      "cell_type": "markdown",
      "source": [
        "Python Comment"
      ],
      "metadata": {
        "id": "YZdBk03vkX2W"
      }
    },
    {
      "cell_type": "code",
      "source": [
        "print(\"Hello World\") #This is a python comment"
      ],
      "metadata": {
        "colab": {
          "base_uri": "https://localhost:8080/"
        },
        "id": "Zeox-Lp9kbDV",
        "outputId": "016527af-db6f-4822-93fa-a91b2b0db6da"
      },
      "execution_count": 3,
      "outputs": [
        {
          "output_type": "stream",
          "name": "stdout",
          "text": [
            "Hello World\n"
          ]
        }
      ]
    },
    {
      "cell_type": "markdown",
      "source": [
        "Python Variable"
      ],
      "metadata": {
        "id": "ZoVGler4krJf"
      }
    },
    {
      "cell_type": "code",
      "source": [
        "z = 1\n",
        "z,s = 0,-1\n",
        "z,s,t = 8,9,10\n",
        "z\n",
        "s\n",
        "t"
      ],
      "metadata": {
        "colab": {
          "base_uri": "https://localhost:8080/"
        },
        "id": "xFbc_Jesktwd",
        "outputId": "9782b703-f36f-49e7-d9fd-328936fa4d95"
      },
      "execution_count": 4,
      "outputs": [
        {
          "output_type": "execute_result",
          "data": {
            "text/plain": [
              "10"
            ]
          },
          "metadata": {},
          "execution_count": 4
        }
      ]
    },
    {
      "cell_type": "markdown",
      "source": [
        "Casting"
      ],
      "metadata": {
        "id": "1zvxHQenmBnH"
      }
    },
    {
      "cell_type": "code",
      "source": [
        "b = \"sally\"  # This is a type of string\n",
        "b = int(4)\n",
        "b"
      ],
      "metadata": {
        "colab": {
          "base_uri": "https://localhost:8080/"
        },
        "id": "q9O7oeM4mEXT",
        "outputId": "3a9ef6c5-2849-4620-822b-c49eeeddeb10"
      },
      "execution_count": 5,
      "outputs": [
        {
          "output_type": "execute_result",
          "data": {
            "text/plain": [
              "4"
            ]
          },
          "metadata": {},
          "execution_count": 5
        }
      ]
    },
    {
      "cell_type": "markdown",
      "source": [
        "Type() function"
      ],
      "metadata": {
        "id": "TEOmtk5XmZ4d"
      }
    },
    {
      "cell_type": "code",
      "source": [
        "print(type(b))"
      ],
      "metadata": {
        "colab": {
          "base_uri": "https://localhost:8080/"
        },
        "id": "usZKAVh1mipx",
        "outputId": "3dc1f043-6ee8-470b-dc44-e0a68581bacd"
      },
      "execution_count": 6,
      "outputs": [
        {
          "output_type": "stream",
          "name": "stdout",
          "text": [
            "<class 'int'>\n"
          ]
        }
      ]
    },
    {
      "cell_type": "markdown",
      "source": [
        "Double Quotes and Single Quotes"
      ],
      "metadata": {
        "id": "HqC3Zeugm6vz"
      }
    },
    {
      "cell_type": "code",
      "source": [
        "w = \"Ana\"\n",
        "print(w)\n",
        "q = 'Ana'\n",
        "print(q)"
      ],
      "metadata": {
        "colab": {
          "base_uri": "https://localhost:8080/"
        },
        "id": "HtEHYBeDnBf9",
        "outputId": "0aff251b-7c3d-4432-ef5f-040e38fda76f"
      },
      "execution_count": 7,
      "outputs": [
        {
          "output_type": "stream",
          "name": "stdout",
          "text": [
            "Ana\n",
            "Ana\n"
          ]
        }
      ]
    },
    {
      "cell_type": "markdown",
      "source": [
        "Case Sensitive"
      ],
      "metadata": {
        "id": "95mSS2vJnZFI"
      }
    },
    {
      "cell_type": "code",
      "source": [
        "a = int(4)\n",
        "A = \"Sally\"\n",
        "a\n",
        "A\n"
      ],
      "metadata": {
        "colab": {
          "base_uri": "https://localhost:8080/",
          "height": 35
        },
        "id": "Mu-xqJB_ncZ4",
        "outputId": "bf54e6d6-1281-4fdb-e957-60532a596fee"
      },
      "execution_count": 8,
      "outputs": [
        {
          "output_type": "execute_result",
          "data": {
            "text/plain": [
              "'Sally'"
            ],
            "application/vnd.google.colaboratory.intrinsic+json": {
              "type": "string"
            }
          },
          "metadata": {},
          "execution_count": 8
        }
      ]
    },
    {
      "cell_type": "markdown",
      "source": [
        "Multiple Variables"
      ],
      "metadata": {
        "id": "SaGAGXoOn9in"
      }
    },
    {
      "cell_type": "code",
      "source": [
        "h, i, j = \"one\", \"two\", \"three\"\n",
        "print(h)\n",
        "print(i)\n",
        "print(j)"
      ],
      "metadata": {
        "colab": {
          "base_uri": "https://localhost:8080/"
        },
        "id": "l2IX0HBIn_Nd",
        "outputId": "3e481850-6395-4fbe-b4ea-331d2954ff2f"
      },
      "execution_count": 9,
      "outputs": [
        {
          "output_type": "stream",
          "name": "stdout",
          "text": [
            "one\n",
            "two\n",
            "three\n"
          ]
        }
      ]
    },
    {
      "cell_type": "markdown",
      "source": [
        "Multiple Variables with Single Value"
      ],
      "metadata": {
        "id": "fSOtAkQ_oV0S"
      }
    },
    {
      "cell_type": "code",
      "source": [
        "k = l = m = 'four'\n",
        "print(k)\n",
        "print(l)\n",
        "print(m)"
      ],
      "metadata": {
        "colab": {
          "base_uri": "https://localhost:8080/"
        },
        "id": "QFChgXYLoaAo",
        "outputId": "cb214851-f0e9-4418-a07f-157ebac0b9ac"
      },
      "execution_count": 10,
      "outputs": [
        {
          "output_type": "stream",
          "name": "stdout",
          "text": [
            "four\n",
            "four\n",
            "four\n"
          ]
        }
      ]
    },
    {
      "cell_type": "markdown",
      "source": [
        "Output Variable and concatenation +"
      ],
      "metadata": {
        "id": "I1jFfhQxo7su"
      }
    },
    {
      "cell_type": "code",
      "source": [
        "n = \"enjoying\"\n",
        "p = \"Python programming is \"\n",
        "print(p+n)"
      ],
      "metadata": {
        "colab": {
          "base_uri": "https://localhost:8080/"
        },
        "id": "Hy4Sf7IFpB2Q",
        "outputId": "9e66ac1e-e4e0-4636-c0a6-59c76799ea95"
      },
      "execution_count": 11,
      "outputs": [
        {
          "output_type": "stream",
          "name": "stdout",
          "text": [
            "Python programming is enjoying\n"
          ]
        }
      ]
    },
    {
      "cell_type": "markdown",
      "source": [
        "Arithmetic Operations"
      ],
      "metadata": {
        "id": "6I9rJOwkvLos"
      }
    },
    {
      "cell_type": "code",
      "source": [
        "print(x + y) #Addtion\n",
        "print(x - y) #Subtraction\n",
        "print(x * y) #Multiplication\n",
        "print(x / y) #Division\n",
        "print(x//y)  #Floor Division\n",
        "print(x%y)   #Modulus\n",
        "print(x**y)  #Exponentiation"
      ],
      "metadata": {
        "colab": {
          "base_uri": "https://localhost:8080/"
        },
        "id": "Up1-gKayvPBt",
        "outputId": "9bc3af41-b6bb-4cb6-b587-8fd156ad7d27"
      },
      "execution_count": 12,
      "outputs": [
        {
          "output_type": "stream",
          "name": "stdout",
          "text": [
            "5\n",
            "1\n",
            "6\n",
            "1.5\n",
            "1\n",
            "1\n",
            "9\n"
          ]
        }
      ]
    },
    {
      "cell_type": "markdown",
      "source": [
        "Assignment Operator"
      ],
      "metadata": {
        "id": "snIa4YI0wzaN"
      }
    },
    {
      "cell_type": "code",
      "source": [
        "x+=3 #same as x = x+3\n",
        "print(x)"
      ],
      "metadata": {
        "colab": {
          "base_uri": "https://localhost:8080/"
        },
        "id": "aseaHADsw2wx",
        "outputId": "93b6788a-496b-4f73-c4e0-920e2535b98b"
      },
      "execution_count": 13,
      "outputs": [
        {
          "output_type": "stream",
          "name": "stdout",
          "text": [
            "6\n"
          ]
        }
      ]
    },
    {
      "cell_type": "markdown",
      "source": [
        "Comparison Operator"
      ],
      "metadata": {
        "id": "o3ibleVkxLMC"
      }
    },
    {
      "cell_type": "code",
      "source": [
        "print(x == y) #x=3, y=2\n",
        "print(x!=y)\n",
        "print(x>y)\n",
        "print(x<y)\n"
      ],
      "metadata": {
        "colab": {
          "base_uri": "https://localhost:8080/"
        },
        "id": "ZuAwDH6KxNRq",
        "outputId": "06d9870a-284e-4f9f-8c55-72e7fc4317f1"
      },
      "execution_count": 14,
      "outputs": [
        {
          "output_type": "stream",
          "name": "stdout",
          "text": [
            "False\n",
            "True\n",
            "True\n",
            "False\n"
          ]
        }
      ]
    },
    {
      "cell_type": "markdown",
      "source": [
        "Logical Operators"
      ],
      "metadata": {
        "id": "YimunYQmx7xh"
      }
    },
    {
      "cell_type": "code",
      "source": [
        "print(x==y and x!=y) #True and False\n",
        "print(x==y or x!=y) #False or True\n",
        "print(not(x==y or x!=y)) #negate(False or True)"
      ],
      "metadata": {
        "colab": {
          "base_uri": "https://localhost:8080/"
        },
        "id": "m7KoPH0Vx_OU",
        "outputId": "840ba0d1-58d2-4e7d-80d8-9bc6528103e1"
      },
      "execution_count": 15,
      "outputs": [
        {
          "output_type": "stream",
          "name": "stdout",
          "text": [
            "False\n",
            "True\n",
            "False\n"
          ]
        }
      ]
    },
    {
      "cell_type": "markdown",
      "source": [
        "Identity Operators"
      ],
      "metadata": {
        "id": "3cR6Aq7dy_0T"
      }
    },
    {
      "cell_type": "code",
      "source": [
        "print(x is y) #False\n",
        "print(x is not y) #True"
      ],
      "metadata": {
        "colab": {
          "base_uri": "https://localhost:8080/"
        },
        "id": "jn9kh15pzB_2",
        "outputId": "4069eb4a-88be-4e16-b63f-6558287f098c"
      },
      "execution_count": 16,
      "outputs": [
        {
          "output_type": "stream",
          "name": "stdout",
          "text": [
            "False\n",
            "True\n"
          ]
        }
      ]
    },
    {
      "cell_type": "markdown",
      "source": [
        "Bitwise Operators"
      ],
      "metadata": {
        "id": "EpuBB404zb8J"
      }
    },
    {
      "cell_type": "code",
      "source": [
        "#10 + 1 = 11    ; 1010 + 0001 = 1011\n",
        "print(10 | 1)\n",
        "\n",
        "print(x>>1)   #x=3  ,  011"
      ],
      "metadata": {
        "colab": {
          "base_uri": "https://localhost:8080/"
        },
        "id": "nDdPwJv8zeHd",
        "outputId": "525f7622-cbdc-43cc-81b2-629481521cb8"
      },
      "execution_count": 17,
      "outputs": [
        {
          "output_type": "stream",
          "name": "stdout",
          "text": [
            "11\n",
            "3\n"
          ]
        }
      ]
    },
    {
      "cell_type": "markdown",
      "source": [
        "Application 1"
      ],
      "metadata": {
        "id": "Mxcaykgf040e"
      }
    },
    {
      "cell_type": "code",
      "source": [
        "#Create a python program that displays your Fullname, Age, and Course and Section\n",
        "\n",
        "full_name = \"Dan Eric Bacolod Atencia\"\n",
        "age = 21\n",
        "course = \"BS Computer Engineering\"\n",
        "section = \"3-1\"\n",
        "\n",
        "print(\"Full Name:\", full_name)\n",
        "print(\"Age:\", age)\n",
        "print(\"Course:\", course)\n",
        "print(\"Section:\", section)\n"
      ],
      "metadata": {
        "colab": {
          "base_uri": "https://localhost:8080/"
        },
        "id": "KFItGbcm076F",
        "outputId": "086912f8-3196-44b8-ccbd-f2e663a258c0"
      },
      "execution_count": 20,
      "outputs": [
        {
          "output_type": "stream",
          "name": "stdout",
          "text": [
            "Full Name: Dan Eric Bacolod Atencia\n",
            "Age: 21\n",
            "Course: BS Computer Engineering\n",
            "Section: 3-1\n"
          ]
        }
      ]
    }
  ]
}