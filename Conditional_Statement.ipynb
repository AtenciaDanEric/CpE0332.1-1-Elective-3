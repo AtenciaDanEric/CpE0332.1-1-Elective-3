{
  "nbformat": 4,
  "nbformat_minor": 0,
  "metadata": {
    "colab": {
      "provenance": [],
      "include_colab_link": true
    },
    "kernelspec": {
      "name": "python3",
      "display_name": "Python 3"
    },
    "language_info": {
      "name": "python"
    }
  },
  "cells": [
    {
      "cell_type": "markdown",
      "metadata": {
        "id": "view-in-github",
        "colab_type": "text"
      },
      "source": [
        "<a href=\"https://colab.research.google.com/github/dancoder026/CpE0332.1-1-Elective-3/blob/main/Conditional_Statement.ipynb\" target=\"_parent\"><img src=\"https://colab.research.google.com/assets/colab-badge.svg\" alt=\"Open In Colab\"/></a>"
      ]
    },
    {
      "cell_type": "markdown",
      "source": [
        "If Statement"
      ],
      "metadata": {
        "id": "CIoW-sKTCRqM"
      }
    },
    {
      "cell_type": "code",
      "execution_count": 1,
      "metadata": {
        "colab": {
          "base_uri": "https://localhost:8080/"
        },
        "id": "xOjRMeHVB1WU",
        "outputId": "fefd32ee-b5f8-4745-8ab6-479ddcace51d"
      },
      "outputs": [
        {
          "output_type": "stream",
          "name": "stdout",
          "text": [
            "a is less than b\n"
          ]
        }
      ],
      "source": [
        "a = 12\n",
        "b = 100\n",
        "\n",
        "\n",
        "if a<b:\n",
        "    print(\"a is less than b\")"
      ]
    },
    {
      "cell_type": "markdown",
      "source": [
        "Elif Statement"
      ],
      "metadata": {
        "id": "jYx4vM2NCnkd"
      }
    },
    {
      "cell_type": "code",
      "source": [
        "print(\"Enter your age: \")\n",
        "age = int(input())\n",
        "if age >= 18:\n",
        "    print(\"You are qualified to get a license.\")\n",
        "elif age<18:\n",
        "    print(\"You are not qualified to get a license.\")\n"
      ],
      "metadata": {
        "colab": {
          "base_uri": "https://localhost:8080/"
        },
        "id": "CRx0kx-xCrKJ",
        "outputId": "5a06e3d4-bdb0-4c4d-fedb-c65e01e95c37"
      },
      "execution_count": 2,
      "outputs": [
        {
          "output_type": "stream",
          "name": "stdout",
          "text": [
            "Enter your age: \n",
            "55\n",
            "You are qualified to get a license.\n"
          ]
        }
      ]
    },
    {
      "cell_type": "markdown",
      "source": [
        "Else Statement"
      ],
      "metadata": {
        "id": "DBE0OHpQEiCO"
      }
    },
    {
      "cell_type": "code",
      "source": [
        "print(\"Enter an integer: \")\n",
        "x= int(input())\n",
        "if x > 0:\n",
        "    print(\"Positive number\")\n",
        "elif x < 0:\n",
        "    print(\"Negative number\")\n",
        "else:\n",
        "    print(\"Zero\")\n"
      ],
      "metadata": {
        "colab": {
          "base_uri": "https://localhost:8080/"
        },
        "id": "vMlCpTekEja7",
        "outputId": "a0e87452-0ce4-4308-b69b-bd675a21bda0"
      },
      "execution_count": 3,
      "outputs": [
        {
          "output_type": "stream",
          "name": "stdout",
          "text": [
            "Enter an integer: \n",
            "0\n",
            "Zero\n"
          ]
        }
      ]
    },
    {
      "cell_type": "markdown",
      "source": [
        "Short Hand If Statement"
      ],
      "metadata": {
        "id": "2zNRhISeFfTJ"
      }
    },
    {
      "cell_type": "code",
      "source": [
        "if a<b: print (\"a is less than b\")"
      ],
      "metadata": {
        "colab": {
          "base_uri": "https://localhost:8080/"
        },
        "id": "BNK4vK5wFiFK",
        "outputId": "28a874d3-504a-4e7f-9659-9ee5bc508877"
      },
      "execution_count": 4,
      "outputs": [
        {
          "output_type": "stream",
          "name": "stdout",
          "text": [
            "a is less than b\n"
          ]
        }
      ]
    },
    {
      "cell_type": "markdown",
      "source": [
        "Short Hand If..Else Statement"
      ],
      "metadata": {
        "id": "TY9WgKfRFlUP"
      }
    },
    {
      "cell_type": "code",
      "source": [
        "print(\"a is greater than b\") if a>b else print(\"b is greater than a\")"
      ],
      "metadata": {
        "colab": {
          "base_uri": "https://localhost:8080/"
        },
        "id": "inIbdaUJFpyN",
        "outputId": "a0dc8b7d-99fb-4a3e-d8f8-a882d78bd411"
      },
      "execution_count": 5,
      "outputs": [
        {
          "output_type": "stream",
          "name": "stdout",
          "text": [
            "b is greater than a\n"
          ]
        }
      ]
    },
    {
      "cell_type": "markdown",
      "source": [
        "And Statement"
      ],
      "metadata": {
        "id": "O6I-ymNLGTOu"
      }
    },
    {
      "cell_type": "code",
      "source": [
        "c = 500\n",
        "if a<b and c>a:\n",
        "    print(\"Both statements are True\")"
      ],
      "metadata": {
        "colab": {
          "base_uri": "https://localhost:8080/"
        },
        "id": "Qo1BBA-4Gjci",
        "outputId": "179f463c-e3e8-447c-c23c-83ce98bf9d2e"
      },
      "execution_count": 6,
      "outputs": [
        {
          "output_type": "stream",
          "name": "stdout",
          "text": [
            "Both statements are True\n"
          ]
        }
      ]
    },
    {
      "cell_type": "markdown",
      "source": [
        "Or Statement"
      ],
      "metadata": {
        "id": "kjuUoAdIHEFv"
      }
    },
    {
      "cell_type": "code",
      "source": [
        "if a>b or c>a:\n",
        "    print(\"Both statements are True\")"
      ],
      "metadata": {
        "colab": {
          "base_uri": "https://localhost:8080/"
        },
        "id": "GrcMAJTMHFZo",
        "outputId": "d34837b5-cc48-4415-f343-64baac46456d"
      },
      "execution_count": 7,
      "outputs": [
        {
          "output_type": "stream",
          "name": "stdout",
          "text": [
            "Both statements are True\n"
          ]
        }
      ]
    },
    {
      "cell_type": "markdown",
      "source": [
        "Nested If Statement"
      ],
      "metadata": {
        "id": "DP48iwupHqHa"
      }
    },
    {
      "cell_type": "code",
      "source": [
        "\n",
        "print (\"Enter a number: \")\n",
        "x = int(input())\n",
        "if x > 10:\n",
        "  print(\"Above 10,\")\n",
        "  if x > 20:\n",
        "    print(\"and also above 20!\")\n",
        "    if x > 30:\n",
        "      print(\"and also above 30!\")\n",
        "      if x > 40:\n",
        "        print(\"and also above 40!\")\n",
        "        if x > 50:\n",
        "          print(\"and also above 50.\")\n",
        "        else:\n",
        "          print(\"but not above 50.\")\n",
        "      else:\n",
        "          print(\"but not above 40.\")\n",
        "    else:\n",
        "        print(\"but not above 30.\")\n",
        "  else:\n",
        "      print(\"but not above 20.\")\n",
        "else:\n",
        "    print(\"but not above 10.\")\n",
        "\n"
      ],
      "metadata": {
        "colab": {
          "base_uri": "https://localhost:8080/"
        },
        "id": "Y_B6DZf3HtrC",
        "outputId": "d2d99a96-103a-48ec-b20c-5a971c0d0883"
      },
      "execution_count": 8,
      "outputs": [
        {
          "output_type": "stream",
          "name": "stdout",
          "text": [
            "Enter a number: \n",
            "90\n",
            "Above 10,\n",
            "and also above 20!\n",
            "and also above 30!\n",
            "and also above 40!\n",
            "and also above 50.\n"
          ]
        }
      ]
    },
    {
      "cell_type": "markdown",
      "source": [
        "Application 2 Write a program to determine if the grades are:\n",
        "\n",
        "If:​\n",
        "\n",
        "\t  grade > = 75 , “Passed”​\n",
        "\n",
        "\t  grade = 74, “Remedial”​\n",
        "\n",
        "\t  grade < 74, “Failed”​\n",
        "\n",
        "\t  note: if grade is a negative number, it will not accepted​\n"
      ],
      "metadata": {
        "id": "oly0ZGUrLZTy"
      }
    },
    {
      "cell_type": "code",
      "source": [
        "try:\n",
        "    #Take the grade number from user\n",
        "    grade = float(input(\"Enter a grade: \"))\n",
        "\n",
        "    if grade > 100 or grade < 0:\n",
        "      print(\"Grade not accepted. Please enter a grade number.\")\n",
        "    else:\n",
        "      if round(grade) >= 75:\n",
        "          print(\"Passed\")\n",
        "      elif round(grade) == 74:\n",
        "          print(\"Remedial\")\n",
        "      else:\n",
        "          print(\"Failed\")\n",
        "\n",
        "except ValueError:\n",
        "    #If the input from user is not a number/float\n",
        "    print(\"Invalid input. Please enter a grade number.\")"
      ],
      "metadata": {
        "colab": {
          "base_uri": "https://localhost:8080/"
        },
        "id": "iyLXWb9pMPN4",
        "outputId": "7786f876-ce8c-4818-d553-da3c0b414ca8"
      },
      "execution_count": 9,
      "outputs": [
        {
          "output_type": "stream",
          "name": "stdout",
          "text": [
            "Enter a grade: 75\n",
            "Passed\n"
          ]
        }
      ]
    }
  ]
}